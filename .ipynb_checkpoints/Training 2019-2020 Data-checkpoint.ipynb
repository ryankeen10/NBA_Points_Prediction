{
 "cells": [
  {
   "cell_type": "code",
   "execution_count": 416,
   "metadata": {},
   "outputs": [],
   "source": [
    "import numpy as np\n",
    "import pandas as pd\n",
    "import datetime\n",
    "import dtale\n",
    "from statistics import mean\n",
    "import matplotlib.pyplot as plt\n",
    "import random"
   ]
  },
  {
   "cell_type": "code",
   "execution_count": 141,
   "metadata": {},
   "outputs": [],
   "source": [
    "raw_data = pd.read_csv('train.csv')\n",
    "pd.set_option('display.max_rows', None)"
   ]
  },
  {
   "cell_type": "code",
   "execution_count": 142,
   "metadata": {},
   "outputs": [],
   "source": [
    "def clean_transform(raw_data):\n",
    "    #Drop duplicates\n",
    "    raw_data = raw_data.drop_duplicates()\n",
    "    \n",
    "    #Change data types, column names, percentages to decimals\n",
    "    rd = raw_data.astype({'season': str, 'starter': str, 'did_not_play': str, 'is_inactive': str})\n",
    "    rd['game_date'] = pd.to_datetime(rd['game_date'], infer_datetime_format = True)\n",
    "    rd = rd.rename(columns = {'Team_efg_pct': 'Team_efg_rate', 'Team_tov_pct' : 'Team_tov_rate', \n",
    "                              'Team_orb_pct': 'Team_orb_rate', 'Opponent_efg_pct': 'Opponent_efg_rate', \n",
    "                              'Opponent_tov_pct': 'Opponent_tov_rate', 'Opponent_orb_pct': 'Opponent_orb_rate',\n",
    "                             'ts_pct': 'ts_rate', 'efg_pct': 'efg_rate', 'ts_pct': 'ts_rate', 'orb_pct': 'orb_rate', \n",
    "                             'drb_pct': 'drb_rate', 'trb_pct': 'trb_rate', 'ast_pct': 'ast_rate', \n",
    "                              'stl_pct': 'stl_rate','blk_pct': 'blk_rate', 'tov_pct': 'tov_rate', \n",
    "                              'usg_pct': 'usg_rate', 'ft_pct': 'ft_rate', 'fg_pct': 'fg_rate', 'fg3_pct': 'fg3_rate'})\n",
    "    rd[['Team_tov_rate', 'Team_orb_rate', 'Opponent_orb_rate', 'Opponent_tov_rate', 'orb_rate', \n",
    "        'drb_rate', 'trb_rate', 'ast_rate', 'stl_rate', 'blk_rate', 'tov_rate', 'usg_rate']] = rd[['Team_tov_rate', 'Team_orb_rate', 'Opponent_orb_rate', 'Opponent_tov_rate', 'orb_rate', \n",
    "        'drb_rate', 'trb_rate', 'ast_rate', 'stl_rate', 'blk_rate', 'tov_rate', 'usg_rate']]/100\n",
    "    raw_data = rd\n",
    "    \n",
    "    #Create inactives table\n",
    "    global inactives\n",
    "    inactives = raw_data[['game_id', 'Inactives']]\n",
    "    \n",
    "    #Drop rows for games that went to overtime\n",
    "    raw_data = raw_data[raw_data['OT'] == 0]\n",
    "    \n",
    "    #Remove unnecessary columns\n",
    "    global clean_data\n",
    "    clean_data = raw_data.drop(['OT', 'player', 'mp', 'double_double', 'triple_double', 'active_position_minutes', \n",
    "                   'PG%', 'SG%', 'SF%', 'C%', 'Inactives', 'pf', 'is_inactive', 'PF%',\n",
    "                    'last_60_minutes_per_game_bench', 'last_60_minutes_per_game_starting',\n",
    "                    'DKP', 'FDP', 'SDP', 'orb', 'drb', 'trb', 'ast', 'stl', 'blk', 'tov', 'ts'], axis = 1, \n",
    "                               inplace = False)\n",
    "    \n",
    "    #New col concatenate game_id and player_id\n",
    "    clean_data.loc[:, 'game_id_player_id'] = clean_data['game_id'].astype('str') + clean_data['player_id'].astype('str')\n",
    "    \n",
    "    #Dedupe new column, move to first\n",
    "    duplicates = clean_data.duplicated(['game_id_player_id'], keep='first')\n",
    "    clean_data = clean_data[~duplicates]\n",
    "    new_id = clean_data.pop('game_id_player_id')\n",
    "    clean_data.insert(0, 'game_id_player_id', new_id)\n",
    "    \n",
    "    #Filter out did not play\n",
    "    #clean_data = clean_data[clean_data['did_not_play'] == '0']\n",
    "    \n",
    "    #Sort by player, date\n",
    "    clean_data = clean_data.sort_values(by = ['player_id', 'game_date'])\n",
    "    \n",
    "    #Reset index\n",
    "    clean_data.reset_index(drop = True, inplace = True)"
   ]
  },
  {
   "cell_type": "code",
   "execution_count": 143,
   "metadata": {},
   "outputs": [],
   "source": [
    "clean_transform(raw_data)"
   ]
  },
  {
   "cell_type": "code",
   "execution_count": 144,
   "metadata": {},
   "outputs": [],
   "source": [
    "def add_feat(clean_data):\n",
    "    #Create player numeric id dictionary, add player number as column\n",
    "    unique_players = pd.DataFrame(clean_data['player_id'].unique())\n",
    "    dict = unique_players.to_dict()[0]\n",
    "    player_dict = {v:k  for k,v in dict.items()}\n",
    "    clean_data['player_num'] = clean_data['player_id'].map(player_dict)\n",
    "\n",
    "    #Create player game number column\n",
    "    clean_data.insert(56, 'player_game_num', 0)\n",
    "    clean_data['player_game_num'].iloc[0] = 1\n",
    "    for i in range(1, len(clean_data)):\n",
    "        if clean_data.iloc[i, 55] != clean_data.iloc[i-1, 55]:\n",
    "            clean_data['player_game_num'].iloc[i] = 1\n",
    "        else:\n",
    "            clean_data['player_game_num'].iloc[i] = (clean_data['player_game_num'].iloc[i-1] + 1)"
   ]
  },
  {
   "cell_type": "code",
   "execution_count": 145,
   "metadata": {},
   "outputs": [],
   "source": [
    "add_feat(clean_data)"
   ]
  },
  {
   "cell_type": "code",
   "execution_count": null,
   "metadata": {},
   "outputs": [],
   "source": [
    "def describe(dataframe):\n",
    "    print('Shape: ', dataframe.shape)\n",
    "    print(dataframe.columns)\n",
    "    print(dataframe.dtypes)"
   ]
  },
  {
   "cell_type": "code",
   "execution_count": null,
   "metadata": {},
   "outputs": [],
   "source": [
    "def transpose(dataframe):\n",
    "    transpose = dataframe.iloc[0:9].T\n",
    "    return transpose.head(len(dataframe))"
   ]
  },
  {
   "cell_type": "code",
   "execution_count": null,
   "metadata": {},
   "outputs": [],
   "source": [
    "def open_dtale(dataframe):\n",
    "    dtale.show(dataframe).open_browser()"
   ]
  },
  {
   "cell_type": "code",
   "execution_count": 129,
   "metadata": {},
   "outputs": [],
   "source": [
    "open_dtale(clean_data)"
   ]
  },
  {
   "cell_type": "code",
   "execution_count": 347,
   "metadata": {},
   "outputs": [],
   "source": [
    "def minute_data(clean_data):\n",
    "    global min_data\n",
    "    min_data = clean_data[['game_id_player_id', 'player_num','player_id', 'did_not_play', 'minutes', 'player_game_num']]\n",
    "    min_data['pred_min'] = min_data['minutes']"
   ]
  },
  {
   "cell_type": "code",
   "execution_count": 348,
   "metadata": {},
   "outputs": [],
   "source": [
    "minute_data(clean_data)"
   ]
  },
  {
   "cell_type": "code",
   "execution_count": 363,
   "metadata": {},
   "outputs": [],
   "source": [
    "def rolling_weighted_avg4(min_data):\n",
    "    #Apply rolling weighted averages to pred_min column\n",
    "    weights = np.array([.1, .2, .3, .4])\n",
    "    global rwa4\n",
    "    rwa4 = min_data.copy()\n",
    "    rwa4['pred_min'] = rwa4['minutes'].rolling(4).apply(lambda x: np.sum(weights*x)).shift(+1)\n",
    "    \n",
    "    #Account for games early in season or injuries\n",
    "    for i in range(0, len(rwa4)):\n",
    "        if rwa4['player_game_num'].iloc[i] == 1:\n",
    "            rwa4['pred_min'].iloc[i] = None\n",
    "        elif rwa4['player_game_num'].iloc[i] == 2:\n",
    "            rwa4['pred_min'].iloc[i] = rwa4['minutes'].iloc[i-1]\n",
    "        elif rwa4['player_game_num'].iloc[i] == 3:\n",
    "            rwa4['pred_min'].iloc[i] = (((rwa4['minutes'].iloc[i-1])* 0.65) \n",
    "            + ((rwa4['minutes'].iloc[i-2])* 0.35))\n",
    "        elif rwa4['player_game_num'].iloc[i] == 4:\n",
    "            rwa4['pred_min'].iloc[i] = (((rwa4['minutes'].iloc[i-1])* 0.55) \n",
    "            + ((rwa4['minutes'].iloc[i-2])* 0.3) \n",
    "            + ((rwa4['minutes'].iloc[i-3])* 0.15))"
   ]
  },
  {
   "cell_type": "code",
   "execution_count": 366,
   "metadata": {},
   "outputs": [],
   "source": [
    "def rolling_weighted_avg3(min_data):\n",
    "    #Apply rolling weighted averages to pred_min column\n",
    "    weights = np.array([.15, .3, .55])\n",
    "    global rwa3\n",
    "    rwa3 = min_data.copy()\n",
    "    rwa3['pred_min'] = rwa3['minutes'].rolling(3).apply(lambda x: np.sum(weights*x)).shift(+1)\n",
    "    \n",
    "    #Account for games early in season or injuries\n",
    "    for i in range(0, len(rwa3)):\n",
    "        if rwa3['player_game_num'].iloc[i] == 1:\n",
    "            rwa3['pred_min'].iloc[i] = None\n",
    "        elif rwa3['player_game_num'].iloc[i] == 2:\n",
    "            rwa3['pred_min'].iloc[i] = rwa3['minutes'].iloc[i-1]\n",
    "        elif rwa3['player_game_num'].iloc[i] == 3:\n",
    "            rwa3['pred_min'].iloc[i] = (((rwa3['minutes'].iloc[i-1])* 0.65) \n",
    "            + ((rwa3['minutes'].iloc[i-2])* 0.35))"
   ]
  },
  {
   "cell_type": "code",
   "execution_count": 367,
   "metadata": {},
   "outputs": [],
   "source": [
    "def rolling_avg4(min_data):\n",
    "    global ra4\n",
    "    ra4 = min_data.copy()\n",
    "    ra4['pred_min'] = ra4['minutes'].rolling(4, min_periods = 1).mean().shift(+1)\n",
    "    for i in range(0, len(ra4)):\n",
    "        if ra4['player_game_num'].iloc[i] == 1:\n",
    "            ra4['pred_min'].iloc[i] = None\n",
    "        elif ra4['player_game_num'].iloc[i] == 2:\n",
    "            ra4['pred_min'].iloc[i] = ra4['minutes'].iloc[i-1]\n",
    "        elif ra4['player_game_num'].iloc[i] == 3:\n",
    "            ra4['pred_min'].iloc[i] = (((ra4['minutes'].iloc[i-1])\n",
    "            + (ra4['minutes'].iloc[i-2]))/2)\n",
    "        elif ra4['player_game_num'].iloc[i] == 4:\n",
    "            ra4['pred_min'].iloc[i] = ((((ra4['minutes'].iloc[i-1])) \n",
    "            + ((ra4['minutes'].iloc[i-2])) \n",
    "            + ((ra4['minutes'].iloc[i-3])))/3)"
   ]
  },
  {
   "cell_type": "code",
   "execution_count": 354,
   "metadata": {},
   "outputs": [],
   "source": [
    "def rolling_avg3(min_data):\n",
    "    global ra3\n",
    "    ra3 = min_data.copy()\n",
    "    ra3['pred_min'] = ra3['minutes'].rolling(3, min_periods = 1).mean().shift(+1)\n",
    "    for i in range(0, len(ra3)):\n",
    "        if ra3['player_game_num'].iloc[i] == 1:\n",
    "            ra3['pred_min'].iloc[i] = None"
   ]
  },
  {
   "cell_type": "code",
   "execution_count": 368,
   "metadata": {},
   "outputs": [],
   "source": [
    "rolling_weighted_avg4(min_data)"
   ]
  },
  {
   "cell_type": "code",
   "execution_count": 369,
   "metadata": {},
   "outputs": [],
   "source": [
    "rolling_weighted_avg3(min_data)"
   ]
  },
  {
   "cell_type": "code",
   "execution_count": 370,
   "metadata": {},
   "outputs": [],
   "source": [
    "rolling_avg4(min_data)"
   ]
  },
  {
   "cell_type": "code",
   "execution_count": 371,
   "metadata": {},
   "outputs": [],
   "source": [
    "rolling_avg3(min_data)"
   ]
  },
  {
   "cell_type": "code",
   "execution_count": 372,
   "metadata": {},
   "outputs": [
    {
     "name": "stdout",
     "output_type": "stream",
     "text": [
      "RMSE Rolling Weighted Avg4. =  7.490258563774775\n",
      "RMSE Rolling Weighted Avg3. =  7.549058512909152\n",
      "RMSE Rolling Avg4. =  7.666503959160692\n",
      "RMSE Rolling Avg3. =  7.8065281099398405\n"
     ]
    }
   ],
   "source": [
    "print('RMSE Rolling Weighted Avg4. = ', ((rwa4.pred_min - rwa4.minutes) ** 2).mean() ** .5)\n",
    "print('RMSE Rolling Weighted Avg3. = ', ((rwa3.pred_min - rwa3.minutes) ** 2).mean() ** .5)\n",
    "print('RMSE Rolling Avg4. = ', ((ra4.pred_min - ra4.minutes) ** 2).mean() ** .5)\n",
    "print('RMSE Rolling Avg3. = ', ((ra3.pred_min - ra3.minutes) ** 2).mean() ** .5)"
   ]
  },
  {
   "cell_type": "code",
   "execution_count": 380,
   "metadata": {},
   "outputs": [],
   "source": [
    "rwa4['RSE'] = ((rwa4['pred_min'] - rwa4['minutes'])**2)**.5"
   ]
  },
  {
   "cell_type": "code",
   "execution_count": 398,
   "metadata": {},
   "outputs": [],
   "source": [
    "rwa4_sample = rwa4[rwa4['player_num'] == random.randint(0, 620)]"
   ]
  },
  {
   "cell_type": "code",
   "execution_count": 423,
   "metadata": {},
   "outputs": [],
   "source": [
    "plt.scatter(rwa4_sample['player_game_num'], rwa4_sample['RSE'])\n",
    "plt.show()"
   ]
  }
 ],
 "metadata": {
  "kernelspec": {
   "display_name": "Python 3",
   "language": "python",
   "name": "python3"
  },
  "language_info": {
   "codemirror_mode": {
    "name": "ipython",
    "version": 3
   },
   "file_extension": ".py",
   "mimetype": "text/x-python",
   "name": "python",
   "nbconvert_exporter": "python",
   "pygments_lexer": "ipython3",
   "version": "3.8.5"
  }
 },
 "nbformat": 4,
 "nbformat_minor": 4
}
