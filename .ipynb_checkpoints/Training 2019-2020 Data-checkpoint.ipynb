{
 "cells": [
  {
   "cell_type": "code",
   "execution_count": 1,
   "metadata": {},
   "outputs": [],
   "source": [
    "import numpy as np\n",
    "import pandas as pd\n",
    "import datetime\n",
    "import dtale"
   ]
  },
  {
   "cell_type": "code",
   "execution_count": 2,
   "metadata": {},
   "outputs": [],
   "source": [
    "raw_data = pd.read_csv('training.csv')\n",
    "pd.set_option('display.max_rows', None)"
   ]
  },
  {
   "cell_type": "code",
   "execution_count": 11,
   "metadata": {},
   "outputs": [],
   "source": [
    "def clean_transform(raw_data):\n",
    "    #Drop duplicates\n",
    "    raw_data = raw_data.drop_duplicates()\n",
    "    \n",
    "    #Change data types, column names, percentages to decimals\n",
    "    rd = raw_data.astype({'season': str, 'starter': str, 'did_not_play': str, 'is_inactive': str})\n",
    "    rd['game_date'] = pd.to_datetime(rd['game_date'], infer_datetime_format = True)\n",
    "    rd = rd.rename(columns = {'Team_efg_pct': 'Team_efg_rate', 'Team_tov_pct' : 'Team_tov_rate', \n",
    "                              'Team_orb_pct': 'Team_orb_rate', 'Opponent_efg_pct': 'Opponent_efg_rate', \n",
    "                              'Opponent_tov_pct': 'Opponent_tov_rate', 'Opponent_orb_pct': 'Opponent_orb_rate',\n",
    "                             'ts_pct': 'ts_rate', 'efg_pct': 'efg_rate', 'ts_pct': 'ts_rate', 'orb_pct': 'orb_rate', \n",
    "                             'drb_pct': 'drb_rate', 'trb_pct': 'trb_rate', 'ast_pct': 'ast_rate', \n",
    "                              'stl_pct': 'stl_rate','blk_pct': 'blk_rate', 'tov_pct': 'tov_rate', \n",
    "                              'usg_pct': 'usg_rate', 'ft_pct': 'ft_rate', 'fg_pct': 'fg_rate', 'fg3_pct': 'fg3_rate'})\n",
    "    rd[['Team_tov_rate', 'Team_orb_rate', 'Opponent_orb_rate', 'Opponent_tov_rate', 'orb_rate', \n",
    "        'drb_rate', 'trb_rate', 'ast_rate', 'stl_rate', 'blk_rate', 'tov_rate', 'usg_rate']] = rd[['Team_tov_rate', 'Team_orb_rate', 'Opponent_orb_rate', 'Opponent_tov_rate', 'orb_rate', \n",
    "        'drb_rate', 'trb_rate', 'ast_rate', 'stl_rate', 'blk_rate', 'tov_rate', 'usg_rate']]/100\n",
    "    raw_data = rd\n",
    "    \n",
    "    #Create inactives table\n",
    "    global inactives\n",
    "    inactives = raw_data[['game_id', 'Inactives']]\n",
    "    \n",
    "    #Drop rows for games that went to overtime\n",
    "    raw_data = raw_data[raw_data['OT'] == 0]\n",
    "    \n",
    "    #Remove unnecessary columns\n",
    "    global clean_data\n",
    "    clean_data = raw_data.drop(['OT', 'player', 'mp', 'double_double', 'triple_double', 'active_position_minutes', \n",
    "                   'PG%', 'SG%', 'SF%', 'C%', 'Inactives', 'pf', 'is_inactive', 'PF%',\n",
    "                    'last_60_minutes_per_game_starting', 'last_60_minutes_per_game_bench',\n",
    "                    'DKP', 'FDP', 'SDP', 'orb', 'drb', 'trb', 'ast', 'stl', 'blk', 'tov', 'pts', 'ts'], axis = 1, \n",
    "                               inplace = False)\n",
    "    \n",
    "    #New col concatenate game_id and player_id\n",
    "    clean_data.loc[:, 'game_id_player_id'] = clean_data['game_id'].astype('str') + clean_data['player_id'].astype('str')\n",
    "    \n",
    "    #Dedupe new column, move to first\n",
    "    duplicates = clean_data.duplicated(['game_id_player_id'], keep='first')\n",
    "    clean_data = clean_data[~duplicates]\n",
    "    new_id = clean_data.pop('game_id_player_id')\n",
    "    clean_data.insert(0, 'game_id_player_id', new_id)\n",
    "    \n",
    "    #Filter out did not play\n",
    "    clean_data = clean_data[clean_data['did_not_play'] == '0']\n",
    "\n"
   ]
  },
  {
   "cell_type": "code",
   "execution_count": 12,
   "metadata": {},
   "outputs": [],
   "source": [
    "clean_transform(raw_data)"
   ]
  },
  {
   "cell_type": "code",
   "execution_count": 14,
   "metadata": {},
   "outputs": [],
   "source": [
    "d = dtale.show(clean_data)\n",
    "d.open_browser()"
   ]
  },
  {
   "cell_type": "code",
   "execution_count": 15,
   "metadata": {},
   "outputs": [],
   "source": [
    "def describe(dataframe):\n",
    "    print('Shape: ', dataframe.shape)\n",
    "    print(dataframe.columns)\n",
    "    print(dataframe.dtypes)"
   ]
  },
  {
   "cell_type": "code",
   "execution_count": 16,
   "metadata": {},
   "outputs": [],
   "source": [
    "def transpose(dataframe):\n",
    "    transpose = dataframe.iloc[0:9].T\n",
    "    return transpose.head(len(dataframe))"
   ]
  },
  {
   "cell_type": "code",
   "execution_count": 17,
   "metadata": {},
   "outputs": [],
   "source": [
    "def pred_player_stats(clean_data):\n",
    "    sorted = clean_data.sort_values(by = ['player_id', 'game_date'])\n",
    "    return sorted.head(100)"
   ]
  }
 ],
 "metadata": {
  "kernelspec": {
   "display_name": "Python 3",
   "language": "python",
   "name": "python3"
  },
  "language_info": {
   "codemirror_mode": {
    "name": "ipython",
    "version": 3
   },
   "file_extension": ".py",
   "mimetype": "text/x-python",
   "name": "python",
   "nbconvert_exporter": "python",
   "pygments_lexer": "ipython3",
   "version": "3.8.5"
  }
 },
 "nbformat": 4,
 "nbformat_minor": 4
}
