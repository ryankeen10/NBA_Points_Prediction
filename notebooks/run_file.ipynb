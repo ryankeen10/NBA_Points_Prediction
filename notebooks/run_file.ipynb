{
 "cells": [
  {
   "cell_type": "markdown",
   "metadata": {},
   "source": [
    "Run Order"
   ]
  },
  {
   "cell_type": "markdown",
   "metadata": {},
   "source": [
    "\n",
    "1. Run src/data/data_import.py\n",
    "2. Run src/data/cleaning.py\n",
    "3. Run notebooks/data_cleaning_results.ipynb\n",
    "4. Run src/features/build_features.py\n",
    "5. Run src/models/minutes/clean_min.py\n",
    "6. Run src/models/minutes/train_model.py\n",
    "7. \n"
   ]
  }
 ],
 "metadata": {
  "language_info": {
   "name": "python"
  },
  "orig_nbformat": 4
 },
 "nbformat": 4,
 "nbformat_minor": 2
}
