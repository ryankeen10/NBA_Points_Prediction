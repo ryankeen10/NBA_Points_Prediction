{
 "cells": [
  {
   "cell_type": "code",
   "execution_count": 77,
   "metadata": {},
   "outputs": [],
   "source": [
    "import pandas as pd"
   ]
  },
  {
   "cell_type": "code",
   "execution_count": 261,
   "metadata": {},
   "outputs": [],
   "source": [
    "def build(min_data):\n",
    "    #Set rolling weights\n",
    "    global datfrm\n",
    "    df = min_data.copy()\n",
    "    weights3 = np.array([.15, .3, .55])\n",
    "    weights5 = np.array([.05, .1, .2, .3, .35])\n",
    "    weights10 = np.array([.01, .03, .05, .07, .09, .11, .13, .15, .17, .19])\n",
    "    datfrm = pd.DataFrame()\n",
    "    for i in df['player_id'].unique():\n",
    "        min_build = df[df['player_id'] == i].sort_values(by = 'game_date')\n",
    "        min_build['prevgm'] = min_build['minutes'].shift(1)\n",
    "        min_build['prev3'] = min_build['minutes'].rolling(3).mean().shift(1)\n",
    "        min_build['prev3wtd'] = min_build['minutes'].rolling(3).apply(lambda x: np.sum(weights3*x)).shift(1)\n",
    "        min_build['prev5'] = min_build['minutes'].rolling(5).mean().shift(1)\n",
    "        min_build['prev5wtd'] = min_build['minutes'].rolling(5).apply(lambda x: np.sum(weights5*x)).shift(1)\n",
    "        min_build['prev10'] = min_build['minutes'].rolling(10).mean().shift(1)\n",
    "        min_build['prev10wtd'] = min_build['minutes'].rolling(10).apply(lambda x: np.sum(weights10*x)).shift(1)\n",
    "        min_build['prev3med'] = min_build['minutes'].rolling(3).median().shift(1)\n",
    "        min_build['prev5med'] = min_build['minutes'].rolling(5).median().shift(1)\n",
    "        min_build['prev10med'] = min_build['minutes'].rolling(10).median().shift(1)\n",
    "        min_build['prev3std'] = min_build['minutes'].rolling(3).std().shift(1)\n",
    "        min_build['prev5std'] = min_build['minutes'].rolling(5).std().shift(1)\n",
    "        min_build['prev10std'] = min_build['minutes'].rolling(10).std().shift(1)\n",
    "        min_build['prev_starter'] = min_build['starter'].shift(1)\n",
    "        #min_build['prev_dnp'] = min_build['did_not_play'].shift(1)\n",
    "        datfrm = datfrm.append(min_build.dropna())"
   ]
  },
  {
   "cell_type": "code",
   "execution_count": 262,
   "metadata": {},
   "outputs": [],
   "source": [
    "build(min_data)"
   ]
  },
  {
   "cell_type": "code",
   "execution_count": 263,
   "metadata": {},
   "outputs": [],
   "source": [
    "def test_metrics(datfrm):\n",
    "    prevgm = ((datfrm.prevgm - datfrm.minutes) ** 2).mean() ** .5\n",
    "    prev3 = ((datfrm.prev3 - datfrm.minutes) ** 2).mean() ** .5\n",
    "    prev3wtd = ((datfrm.prev3wtd - datfrm.minutes) ** 2).mean() ** .5\n",
    "    prev5 = ((datfrm.prev5 - datfrm.minutes) ** 2).mean() ** .5\n",
    "    prev5wtd = ((datfrm.prev5wtd - datfrm.minutes) ** 2).mean() ** .5\n",
    "    prev10 = ((datfrm.prev10 - datfrm.minutes) ** 2).mean() ** .5\n",
    "    prev10wtd = ((datfrm.prev10wtd - datfrm.minutes) ** 2).mean() ** .5\n",
    "    \n",
    "    print('RMSE Previous Game = ', prevgm)\n",
    "    print('RMSE Avg. Previous 3 Games = ', prev3)\n",
    "    print('RMSE Weighted Avg. Prev 3 Games = ', prev3wtd)\n",
    "    print('RMSE Avg. Previous 5 Games = ', prev5)\n",
    "    print('RMSE Weighted Avg. Prev 5 Games = ', prev5wtd)\n",
    "    print('RMSE Avg. Previous 10 Games = ', prev10)\n",
    "    print('RMSE Weighted Avg. Prev 10 Games = ', prev10wtd)"
   ]
  },
  {
   "cell_type": "code",
   "execution_count": 266,
   "metadata": {},
   "outputs": [
    {
     "name": "stdout",
     "output_type": "stream",
     "text": [
      "RMSE Previous Game =  8.41845680820872\n",
      "RMSE Avg. Previous 3 Games =  7.743383673098178\n",
      "RMSE Weighted Avg. Prev 3 Games =  7.613273196931532\n",
      "RMSE Avg. Previous 5 Games =  7.759838651287435\n",
      "RMSE Weighted Avg. Prev 5 Games =  7.540822749766764\n",
      "RMSE Avg. Previous 10 Games =  7.978526754681877\n",
      "RMSE Weighted Avg. Prev 10 Games =  7.618897477978181\n"
     ]
    }
   ],
   "source": [
    "test_metrics(datfrm)"
   ]
  },
  {
   "cell_type": "code",
   "execution_count": 193,
   "metadata": {},
   "outputs": [],
   "source": [
    "def train_test(min_data):\n",
    "    x = datfrm[['starter', 'did_not_play', ]]"
   ]
  },
  {
   "cell_type": "code",
   "execution_count": 258,
   "metadata": {},
   "outputs": [
    {
     "data": {
      "text/html": [
       "<div>\n",
       "<style scoped>\n",
       "    .dataframe tbody tr th:only-of-type {\n",
       "        vertical-align: middle;\n",
       "    }\n",
       "\n",
       "    .dataframe tbody tr th {\n",
       "        vertical-align: top;\n",
       "    }\n",
       "\n",
       "    .dataframe thead th {\n",
       "        text-align: right;\n",
       "    }\n",
       "</style>\n",
       "<table border=\"1\" class=\"dataframe\">\n",
       "  <thead>\n",
       "    <tr style=\"text-align: right;\">\n",
       "      <th></th>\n",
       "      <th>game_date</th>\n",
       "      <th>starter</th>\n",
       "      <th>did_not_play</th>\n",
       "      <th>game_id_player_id</th>\n",
       "      <th>player_num</th>\n",
       "      <th>player_id</th>\n",
       "      <th>did_not_play</th>\n",
       "      <th>minutes</th>\n",
       "      <th>player_game_num</th>\n",
       "      <th>pred_min</th>\n",
       "    </tr>\n",
       "  </thead>\n",
       "  <tbody>\n",
       "    <tr>\n",
       "      <th>0</th>\n",
       "      <td>2020-12-23</td>\n",
       "      <td>0</td>\n",
       "      <td>0</td>\n",
       "      <td>202012230ORLachiupr01</td>\n",
       "      <td>0</td>\n",
       "      <td>achiupr01</td>\n",
       "      <td>0</td>\n",
       "      <td>13.650000</td>\n",
       "      <td>1</td>\n",
       "      <td>13.650000</td>\n",
       "    </tr>\n",
       "    <tr>\n",
       "      <th>1</th>\n",
       "      <td>2020-12-25</td>\n",
       "      <td>0</td>\n",
       "      <td>0</td>\n",
       "      <td>202012250MIAachiupr01</td>\n",
       "      <td>0</td>\n",
       "      <td>achiupr01</td>\n",
       "      <td>0</td>\n",
       "      <td>19.466667</td>\n",
       "      <td>2</td>\n",
       "      <td>19.466667</td>\n",
       "    </tr>\n",
       "    <tr>\n",
       "      <th>2</th>\n",
       "      <td>2020-12-29</td>\n",
       "      <td>0</td>\n",
       "      <td>0</td>\n",
       "      <td>202012290MIAachiupr01</td>\n",
       "      <td>0</td>\n",
       "      <td>achiupr01</td>\n",
       "      <td>0</td>\n",
       "      <td>17.633333</td>\n",
       "      <td>3</td>\n",
       "      <td>17.633333</td>\n",
       "    </tr>\n",
       "    <tr>\n",
       "      <th>3</th>\n",
       "      <td>2020-12-30</td>\n",
       "      <td>0</td>\n",
       "      <td>0</td>\n",
       "      <td>202012300MIAachiupr01</td>\n",
       "      <td>0</td>\n",
       "      <td>achiupr01</td>\n",
       "      <td>0</td>\n",
       "      <td>12.016667</td>\n",
       "      <td>4</td>\n",
       "      <td>12.016667</td>\n",
       "    </tr>\n",
       "    <tr>\n",
       "      <th>4</th>\n",
       "      <td>2021-01-01</td>\n",
       "      <td>0</td>\n",
       "      <td>0</td>\n",
       "      <td>202101010DALachiupr01</td>\n",
       "      <td>0</td>\n",
       "      <td>achiupr01</td>\n",
       "      <td>0</td>\n",
       "      <td>11.983333</td>\n",
       "      <td>5</td>\n",
       "      <td>11.983333</td>\n",
       "    </tr>\n",
       "  </tbody>\n",
       "</table>\n",
       "</div>"
      ],
      "text/plain": [
       "   game_date starter did_not_play      game_id_player_id  player_num  \\\n",
       "0 2020-12-23       0            0  202012230ORLachiupr01           0   \n",
       "1 2020-12-25       0            0  202012250MIAachiupr01           0   \n",
       "2 2020-12-29       0            0  202012290MIAachiupr01           0   \n",
       "3 2020-12-30       0            0  202012300MIAachiupr01           0   \n",
       "4 2021-01-01       0            0  202101010DALachiupr01           0   \n",
       "\n",
       "   player_id did_not_play    minutes  player_game_num   pred_min  \n",
       "0  achiupr01            0  13.650000                1  13.650000  \n",
       "1  achiupr01            0  19.466667                2  19.466667  \n",
       "2  achiupr01            0  17.633333                3  17.633333  \n",
       "3  achiupr01            0  12.016667                4  12.016667  \n",
       "4  achiupr01            0  11.983333                5  11.983333  "
      ]
     },
     "execution_count": 258,
     "metadata": {},
     "output_type": "execute_result"
    }
   ],
   "source": [
    "min_data.head()"
   ]
  }
 ],
 "metadata": {
  "kernelspec": {
   "display_name": "Python 3",
   "language": "python",
   "name": "python3"
  },
  "language_info": {
   "codemirror_mode": {
    "name": "ipython",
    "version": 3
   },
   "file_extension": ".py",
   "mimetype": "text/x-python",
   "name": "python",
   "nbconvert_exporter": "python",
   "pygments_lexer": "ipython3",
   "version": "3.8.5"
  }
 },
 "nbformat": 4,
 "nbformat_minor": 4
}
