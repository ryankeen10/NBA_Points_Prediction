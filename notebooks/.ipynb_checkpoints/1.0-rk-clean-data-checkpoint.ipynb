{
 "cells": [
  {
   "cell_type": "code",
   "execution_count": 1,
   "metadata": {},
   "outputs": [],
   "source": [
    "import pandas as pd"
   ]
  },
  {
   "cell_type": "code",
   "execution_count": 4,
   "metadata": {},
   "outputs": [
    {
     "ename": "FileNotFoundError",
     "evalue": "[Errno 2] No such file or directory: '/data/raw/19-20.csv'",
     "output_type": "error",
     "traceback": [
      "\u001b[0;31m---------------------------------------------------------------------------\u001b[0m",
      "\u001b[0;31mFileNotFoundError\u001b[0m                         Traceback (most recent call last)",
      "\u001b[0;32m<ipython-input-4-a5ddc9b35374>\u001b[0m in \u001b[0;36m<module>\u001b[0;34m\u001b[0m\n\u001b[0;32m----> 1\u001b[0;31m \u001b[0mraw_data\u001b[0m \u001b[0;34m=\u001b[0m \u001b[0mpd\u001b[0m\u001b[0;34m.\u001b[0m\u001b[0mread_csv\u001b[0m\u001b[0;34m(\u001b[0m\u001b[0;34m'/data/raw/19-20.csv'\u001b[0m\u001b[0;34m)\u001b[0m\u001b[0;34m\u001b[0m\u001b[0;34m\u001b[0m\u001b[0m\n\u001b[0m\u001b[1;32m      2\u001b[0m \u001b[0mpd\u001b[0m\u001b[0;34m.\u001b[0m\u001b[0mset_option\u001b[0m\u001b[0;34m(\u001b[0m\u001b[0;34m'display.max_rows'\u001b[0m\u001b[0;34m,\u001b[0m \u001b[0;32mNone\u001b[0m\u001b[0;34m)\u001b[0m\u001b[0;34m\u001b[0m\u001b[0;34m\u001b[0m\u001b[0m\n",
      "\u001b[0;32m/opt/anaconda3/lib/python3.8/site-packages/pandas/io/parsers.py\u001b[0m in \u001b[0;36mread_csv\u001b[0;34m(filepath_or_buffer, sep, delimiter, header, names, index_col, usecols, squeeze, prefix, mangle_dupe_cols, dtype, engine, converters, true_values, false_values, skipinitialspace, skiprows, skipfooter, nrows, na_values, keep_default_na, na_filter, verbose, skip_blank_lines, parse_dates, infer_datetime_format, keep_date_col, date_parser, dayfirst, cache_dates, iterator, chunksize, compression, thousands, decimal, lineterminator, quotechar, quoting, doublequote, escapechar, comment, encoding, dialect, error_bad_lines, warn_bad_lines, delim_whitespace, low_memory, memory_map, float_precision)\u001b[0m\n\u001b[1;32m    684\u001b[0m     )\n\u001b[1;32m    685\u001b[0m \u001b[0;34m\u001b[0m\u001b[0m\n\u001b[0;32m--> 686\u001b[0;31m     \u001b[0;32mreturn\u001b[0m \u001b[0m_read\u001b[0m\u001b[0;34m(\u001b[0m\u001b[0mfilepath_or_buffer\u001b[0m\u001b[0;34m,\u001b[0m \u001b[0mkwds\u001b[0m\u001b[0;34m)\u001b[0m\u001b[0;34m\u001b[0m\u001b[0;34m\u001b[0m\u001b[0m\n\u001b[0m\u001b[1;32m    687\u001b[0m \u001b[0;34m\u001b[0m\u001b[0m\n\u001b[1;32m    688\u001b[0m \u001b[0;34m\u001b[0m\u001b[0m\n",
      "\u001b[0;32m/opt/anaconda3/lib/python3.8/site-packages/pandas/io/parsers.py\u001b[0m in \u001b[0;36m_read\u001b[0;34m(filepath_or_buffer, kwds)\u001b[0m\n\u001b[1;32m    450\u001b[0m \u001b[0;34m\u001b[0m\u001b[0m\n\u001b[1;32m    451\u001b[0m     \u001b[0;31m# Create the parser.\u001b[0m\u001b[0;34m\u001b[0m\u001b[0;34m\u001b[0m\u001b[0;34m\u001b[0m\u001b[0m\n\u001b[0;32m--> 452\u001b[0;31m     \u001b[0mparser\u001b[0m \u001b[0;34m=\u001b[0m \u001b[0mTextFileReader\u001b[0m\u001b[0;34m(\u001b[0m\u001b[0mfp_or_buf\u001b[0m\u001b[0;34m,\u001b[0m \u001b[0;34m**\u001b[0m\u001b[0mkwds\u001b[0m\u001b[0;34m)\u001b[0m\u001b[0;34m\u001b[0m\u001b[0;34m\u001b[0m\u001b[0m\n\u001b[0m\u001b[1;32m    453\u001b[0m \u001b[0;34m\u001b[0m\u001b[0m\n\u001b[1;32m    454\u001b[0m     \u001b[0;32mif\u001b[0m \u001b[0mchunksize\u001b[0m \u001b[0;32mor\u001b[0m \u001b[0miterator\u001b[0m\u001b[0;34m:\u001b[0m\u001b[0;34m\u001b[0m\u001b[0;34m\u001b[0m\u001b[0m\n",
      "\u001b[0;32m/opt/anaconda3/lib/python3.8/site-packages/pandas/io/parsers.py\u001b[0m in \u001b[0;36m__init__\u001b[0;34m(self, f, engine, **kwds)\u001b[0m\n\u001b[1;32m    944\u001b[0m             \u001b[0mself\u001b[0m\u001b[0;34m.\u001b[0m\u001b[0moptions\u001b[0m\u001b[0;34m[\u001b[0m\u001b[0;34m\"has_index_names\"\u001b[0m\u001b[0;34m]\u001b[0m \u001b[0;34m=\u001b[0m \u001b[0mkwds\u001b[0m\u001b[0;34m[\u001b[0m\u001b[0;34m\"has_index_names\"\u001b[0m\u001b[0;34m]\u001b[0m\u001b[0;34m\u001b[0m\u001b[0;34m\u001b[0m\u001b[0m\n\u001b[1;32m    945\u001b[0m \u001b[0;34m\u001b[0m\u001b[0m\n\u001b[0;32m--> 946\u001b[0;31m         \u001b[0mself\u001b[0m\u001b[0;34m.\u001b[0m\u001b[0m_make_engine\u001b[0m\u001b[0;34m(\u001b[0m\u001b[0mself\u001b[0m\u001b[0;34m.\u001b[0m\u001b[0mengine\u001b[0m\u001b[0;34m)\u001b[0m\u001b[0;34m\u001b[0m\u001b[0;34m\u001b[0m\u001b[0m\n\u001b[0m\u001b[1;32m    947\u001b[0m \u001b[0;34m\u001b[0m\u001b[0m\n\u001b[1;32m    948\u001b[0m     \u001b[0;32mdef\u001b[0m \u001b[0mclose\u001b[0m\u001b[0;34m(\u001b[0m\u001b[0mself\u001b[0m\u001b[0;34m)\u001b[0m\u001b[0;34m:\u001b[0m\u001b[0;34m\u001b[0m\u001b[0;34m\u001b[0m\u001b[0m\n",
      "\u001b[0;32m/opt/anaconda3/lib/python3.8/site-packages/pandas/io/parsers.py\u001b[0m in \u001b[0;36m_make_engine\u001b[0;34m(self, engine)\u001b[0m\n\u001b[1;32m   1176\u001b[0m     \u001b[0;32mdef\u001b[0m \u001b[0m_make_engine\u001b[0m\u001b[0;34m(\u001b[0m\u001b[0mself\u001b[0m\u001b[0;34m,\u001b[0m \u001b[0mengine\u001b[0m\u001b[0;34m=\u001b[0m\u001b[0;34m\"c\"\u001b[0m\u001b[0;34m)\u001b[0m\u001b[0;34m:\u001b[0m\u001b[0;34m\u001b[0m\u001b[0;34m\u001b[0m\u001b[0m\n\u001b[1;32m   1177\u001b[0m         \u001b[0;32mif\u001b[0m \u001b[0mengine\u001b[0m \u001b[0;34m==\u001b[0m \u001b[0;34m\"c\"\u001b[0m\u001b[0;34m:\u001b[0m\u001b[0;34m\u001b[0m\u001b[0;34m\u001b[0m\u001b[0m\n\u001b[0;32m-> 1178\u001b[0;31m             \u001b[0mself\u001b[0m\u001b[0;34m.\u001b[0m\u001b[0m_engine\u001b[0m \u001b[0;34m=\u001b[0m \u001b[0mCParserWrapper\u001b[0m\u001b[0;34m(\u001b[0m\u001b[0mself\u001b[0m\u001b[0;34m.\u001b[0m\u001b[0mf\u001b[0m\u001b[0;34m,\u001b[0m \u001b[0;34m**\u001b[0m\u001b[0mself\u001b[0m\u001b[0;34m.\u001b[0m\u001b[0moptions\u001b[0m\u001b[0;34m)\u001b[0m\u001b[0;34m\u001b[0m\u001b[0;34m\u001b[0m\u001b[0m\n\u001b[0m\u001b[1;32m   1179\u001b[0m         \u001b[0;32melse\u001b[0m\u001b[0;34m:\u001b[0m\u001b[0;34m\u001b[0m\u001b[0;34m\u001b[0m\u001b[0m\n\u001b[1;32m   1180\u001b[0m             \u001b[0;32mif\u001b[0m \u001b[0mengine\u001b[0m \u001b[0;34m==\u001b[0m \u001b[0;34m\"python\"\u001b[0m\u001b[0;34m:\u001b[0m\u001b[0;34m\u001b[0m\u001b[0;34m\u001b[0m\u001b[0m\n",
      "\u001b[0;32m/opt/anaconda3/lib/python3.8/site-packages/pandas/io/parsers.py\u001b[0m in \u001b[0;36m__init__\u001b[0;34m(self, src, **kwds)\u001b[0m\n\u001b[1;32m   2006\u001b[0m         \u001b[0mkwds\u001b[0m\u001b[0;34m[\u001b[0m\u001b[0;34m\"usecols\"\u001b[0m\u001b[0;34m]\u001b[0m \u001b[0;34m=\u001b[0m \u001b[0mself\u001b[0m\u001b[0;34m.\u001b[0m\u001b[0musecols\u001b[0m\u001b[0;34m\u001b[0m\u001b[0;34m\u001b[0m\u001b[0m\n\u001b[1;32m   2007\u001b[0m \u001b[0;34m\u001b[0m\u001b[0m\n\u001b[0;32m-> 2008\u001b[0;31m         \u001b[0mself\u001b[0m\u001b[0;34m.\u001b[0m\u001b[0m_reader\u001b[0m \u001b[0;34m=\u001b[0m \u001b[0mparsers\u001b[0m\u001b[0;34m.\u001b[0m\u001b[0mTextReader\u001b[0m\u001b[0;34m(\u001b[0m\u001b[0msrc\u001b[0m\u001b[0;34m,\u001b[0m \u001b[0;34m**\u001b[0m\u001b[0mkwds\u001b[0m\u001b[0;34m)\u001b[0m\u001b[0;34m\u001b[0m\u001b[0;34m\u001b[0m\u001b[0m\n\u001b[0m\u001b[1;32m   2009\u001b[0m         \u001b[0mself\u001b[0m\u001b[0;34m.\u001b[0m\u001b[0munnamed_cols\u001b[0m \u001b[0;34m=\u001b[0m \u001b[0mself\u001b[0m\u001b[0;34m.\u001b[0m\u001b[0m_reader\u001b[0m\u001b[0;34m.\u001b[0m\u001b[0munnamed_cols\u001b[0m\u001b[0;34m\u001b[0m\u001b[0;34m\u001b[0m\u001b[0m\n\u001b[1;32m   2010\u001b[0m \u001b[0;34m\u001b[0m\u001b[0m\n",
      "\u001b[0;32mpandas/_libs/parsers.pyx\u001b[0m in \u001b[0;36mpandas._libs.parsers.TextReader.__cinit__\u001b[0;34m()\u001b[0m\n",
      "\u001b[0;32mpandas/_libs/parsers.pyx\u001b[0m in \u001b[0;36mpandas._libs.parsers.TextReader._setup_parser_source\u001b[0;34m()\u001b[0m\n",
      "\u001b[0;31mFileNotFoundError\u001b[0m: [Errno 2] No such file or directory: '/data/raw/19-20.csv'"
     ]
    }
   ],
   "source": [
    "raw_data = pd.read_csv('/data/raw/19-20.csv')\n",
    "pd.set_option('display.max_rows', None)"
   ]
  },
  {
   "cell_type": "code",
   "execution_count": null,
   "metadata": {},
   "outputs": [],
   "source": [
    "def clean_transform(raw_data):\n",
    "    #Drop duplicates\n",
    "    raw_data = raw_data.drop_duplicates()\n",
    "    \n",
    "    #Change data types, column names, percentages to decimals\n",
    "    rd = raw_data.astype({'season': str, 'starter': str, 'did_not_play': str, 'is_inactive': str})\n",
    "    rd['game_date'] = pd.to_datetime(rd['game_date'], infer_datetime_format = True)\n",
    "    rd = rd.rename(columns = {'Team_efg_pct': 'Team_efg_rate', 'Team_tov_pct' : 'Team_tov_rate', \n",
    "                              'Team_orb_pct': 'Team_orb_rate', 'Opponent_efg_pct': 'Opponent_efg_rate', \n",
    "                              'Opponent_tov_pct': 'Opponent_tov_rate', 'Opponent_orb_pct': 'Opponent_orb_rate',\n",
    "                             'ts_pct': 'ts_rate', 'efg_pct': 'efg_rate', 'ts_pct': 'ts_rate', 'orb_pct': 'orb_rate', \n",
    "                             'drb_pct': 'drb_rate', 'trb_pct': 'trb_rate', 'ast_pct': 'ast_rate', \n",
    "                              'stl_pct': 'stl_rate','blk_pct': 'blk_rate', 'tov_pct': 'tov_rate', \n",
    "                              'usg_pct': 'usg_rate', 'ft_pct': 'ft_rate', 'fg_pct': 'fg_rate', 'fg3_pct': 'fg3_rate'})\n",
    "    rd[['Team_tov_rate', 'Team_orb_rate', 'Opponent_orb_rate', 'Opponent_tov_rate', 'orb_rate', \n",
    "        'drb_rate', 'trb_rate', 'ast_rate', 'stl_rate', 'blk_rate', 'tov_rate', 'usg_rate']] = rd[['Team_tov_rate', 'Team_orb_rate', 'Opponent_orb_rate', 'Opponent_tov_rate', 'orb_rate', \n",
    "        'drb_rate', 'trb_rate', 'ast_rate', 'stl_rate', 'blk_rate', 'tov_rate', 'usg_rate']]/100\n",
    "    raw_data = rd\n",
    "    \n",
    "    #Create inactives table\n",
    "    global inactives\n",
    "    inactives = raw_data[['game_id', 'Inactives']]\n",
    "    \n",
    "    #Drop rows for games that went to overtime\n",
    "    raw_data = raw_data[raw_data['OT'] == 0]\n",
    "    \n",
    "    #Remove unnecessary columns\n",
    "    global clean_data\n",
    "    clean_data = raw_data.drop(['OT', 'player', 'mp', 'double_double', 'triple_double', 'active_position_minutes', \n",
    "                   'PG%', 'SG%', 'SF%', 'C%', 'Inactives', 'pf', 'is_inactive', 'PF%',\n",
    "                    'last_60_minutes_per_game_bench', 'last_60_minutes_per_game_starting',\n",
    "                    'DKP', 'FDP', 'SDP', 'orb', 'drb', 'trb', 'ast', 'stl', 'blk', 'tov', 'ts'], axis = 1, \n",
    "                               inplace = False)\n",
    "    \n",
    "    #New col concatenate game_id and player_id\n",
    "    clean_data.loc[:, 'game_id_player_id'] = clean_data['game_id'].astype('str') + clean_data['player_id'].astype('str')\n",
    "    \n",
    "    #Dedupe new column, move to first\n",
    "    duplicates = clean_data.duplicated(['game_id_player_id'], keep='first')\n",
    "    clean_data = clean_data[~duplicates]\n",
    "    new_id = clean_data.pop('game_id_player_id')\n",
    "    clean_data.insert(0, 'game_id_player_id', new_id)\n",
    "    \n",
    "    #Filter out did not play\n",
    "    #clean_data = clean_data[clean_data['did_not_play'] == '0']\n",
    "    \n",
    "    #Sort by player, date\n",
    "    clean_data = clean_data.sort_values(by = ['player_id', 'game_date'])\n",
    "    \n",
    "    #Reset index\n",
    "    clean_data.reset_index(drop = True, inplace = True)"
   ]
  },
  {
   "cell_type": "code",
   "execution_count": 184,
   "metadata": {},
   "outputs": [],
   "source": [
    "clean_transform(raw_data)"
   ]
  },
  {
   "cell_type": "code",
   "execution_count": 185,
   "metadata": {},
   "outputs": [],
   "source": [
    "def add_feat(clean_data):\n",
    "    #Create player numeric id dictionary, add player number as column\n",
    "    unique_players = pd.DataFrame(clean_data['player_id'].unique())\n",
    "    dict = unique_players.to_dict()[0]\n",
    "    player_dict = {v:k  for k,v in dict.items()}\n",
    "    clean_data['player_num'] = clean_data['player_id'].map(player_dict)\n",
    "\n",
    "    #Create player game number column\n",
    "    clean_data.insert(56, 'player_game_num', 0)\n",
    "    clean_data['player_game_num'].iloc[0] = 1\n",
    "    for i in range(1, len(clean_data)):\n",
    "        if clean_data.iloc[i, 55] != clean_data.iloc[i-1, 55]:\n",
    "            clean_data['player_game_num'].iloc[i] = 1\n",
    "        else:\n",
    "            clean_data['player_game_num'].iloc[i] = (clean_data['player_game_num'].iloc[i-1] + 1)"
   ]
  },
  {
   "cell_type": "code",
   "execution_count": 186,
   "metadata": {},
   "outputs": [],
   "source": [
    "add_feat(clean_data)"
   ]
  },
  {
   "cell_type": "code",
   "execution_count": 187,
   "metadata": {},
   "outputs": [],
   "source": [
    "def describe(dataframe):\n",
    "    print('Shape: ', dataframe.shape)\n",
    "    print(dataframe.columns)\n",
    "    print(dataframe.dtypes)"
   ]
  },
  {
   "cell_type": "code",
   "execution_count": 188,
   "metadata": {},
   "outputs": [],
   "source": [
    "def transpose(dataframe):\n",
    "    transpose = dataframe.iloc[0:9].T\n",
    "    return transpose.head(len(dataframe))"
   ]
  },
  {
   "cell_type": "code",
   "execution_count": 189,
   "metadata": {},
   "outputs": [],
   "source": [
    "def open_dtale(dataframe):\n",
    "    dtale.show(dataframe).open_browser()"
   ]
  },
  {
   "cell_type": "code",
   "execution_count": 190,
   "metadata": {},
   "outputs": [],
   "source": [
    "open_dtale(clean_data)"
   ]
  },
  {
   "cell_type": "code",
   "execution_count": 254,
   "metadata": {},
   "outputs": [],
   "source": [
    "def minute_data(clean_data):\n",
    "    global min_data\n",
    "    min_data = clean_data[['game_date', 'starter', 'did_not_play', 'game_id_player_id', 'player_num','player_id', 'did_not_play', 'minutes', 'player_game_num']]\n",
    "    min_data['pred_min'] = min_data['minutes']"
   ]
  },
  {
   "cell_type": "code",
   "execution_count": 255,
   "metadata": {},
   "outputs": [],
   "source": [
    "minute_data(clean_data)"
   ]
  },
  {
   "cell_type": "code",
   "execution_count": 261,
   "metadata": {},
   "outputs": [],
   "source": [
    "def build(min_data):\n",
    "    #Set rolling weights\n",
    "    global datfrm\n",
    "    df = min_data.copy()\n",
    "    weights3 = np.array([.15, .3, .55])\n",
    "    weights5 = np.array([.05, .1, .2, .3, .35])\n",
    "    weights10 = np.array([.01, .03, .05, .07, .09, .11, .13, .15, .17, .19])\n",
    "    datfrm = pd.DataFrame()\n",
    "    for i in df['player_id'].unique():\n",
    "        min_build = df[df['player_id'] == i].sort_values(by = 'game_date')\n",
    "        min_build['prevgm'] = min_build['minutes'].shift(1)\n",
    "        min_build['prev3'] = min_build['minutes'].rolling(3).mean().shift(1)\n",
    "        min_build['prev3wtd'] = min_build['minutes'].rolling(3).apply(lambda x: np.sum(weights3*x)).shift(1)\n",
    "        min_build['prev5'] = min_build['minutes'].rolling(5).mean().shift(1)\n",
    "        min_build['prev5wtd'] = min_build['minutes'].rolling(5).apply(lambda x: np.sum(weights5*x)).shift(1)\n",
    "        min_build['prev10'] = min_build['minutes'].rolling(10).mean().shift(1)\n",
    "        min_build['prev10wtd'] = min_build['minutes'].rolling(10).apply(lambda x: np.sum(weights10*x)).shift(1)\n",
    "        min_build['prev3med'] = min_build['minutes'].rolling(3).median().shift(1)\n",
    "        min_build['prev5med'] = min_build['minutes'].rolling(5).median().shift(1)\n",
    "        min_build['prev10med'] = min_build['minutes'].rolling(10).median().shift(1)\n",
    "        min_build['prev3std'] = min_build['minutes'].rolling(3).std().shift(1)\n",
    "        min_build['prev5std'] = min_build['minutes'].rolling(5).std().shift(1)\n",
    "        min_build['prev10std'] = min_build['minutes'].rolling(10).std().shift(1)\n",
    "        min_build['prev_starter'] = min_build['starter'].shift(1)\n",
    "        #min_build['prev_dnp'] = min_build['did_not_play'].shift(1)\n",
    "        datfrm = datfrm.append(min_build.dropna())"
   ]
  },
  {
   "cell_type": "code",
   "execution_count": 262,
   "metadata": {},
   "outputs": [],
   "source": [
    "build(min_data)"
   ]
  },
  {
   "cell_type": "code",
   "execution_count": 263,
   "metadata": {},
   "outputs": [],
   "source": [
    "def test_metrics(datfrm):\n",
    "    prevgm = ((datfrm.prevgm - datfrm.minutes) ** 2).mean() ** .5\n",
    "    prev3 = ((datfrm.prev3 - datfrm.minutes) ** 2).mean() ** .5\n",
    "    prev3wtd = ((datfrm.prev3wtd - datfrm.minutes) ** 2).mean() ** .5\n",
    "    prev5 = ((datfrm.prev5 - datfrm.minutes) ** 2).mean() ** .5\n",
    "    prev5wtd = ((datfrm.prev5wtd - datfrm.minutes) ** 2).mean() ** .5\n",
    "    prev10 = ((datfrm.prev10 - datfrm.minutes) ** 2).mean() ** .5\n",
    "    prev10wtd = ((datfrm.prev10wtd - datfrm.minutes) ** 2).mean() ** .5\n",
    "    \n",
    "    print('RMSE Previous Game = ', prevgm)\n",
    "    print('RMSE Avg. Previous 3 Games = ', prev3)\n",
    "    print('RMSE Weighted Avg. Prev 3 Games = ', prev3wtd)\n",
    "    print('RMSE Avg. Previous 5 Games = ', prev5)\n",
    "    print('RMSE Weighted Avg. Prev 5 Games = ', prev5wtd)\n",
    "    print('RMSE Avg. Previous 10 Games = ', prev10)\n",
    "    print('RMSE Weighted Avg. Prev 10 Games = ', prev10wtd)"
   ]
  },
  {
   "cell_type": "code",
   "execution_count": 266,
   "metadata": {},
   "outputs": [
    {
     "name": "stdout",
     "output_type": "stream",
     "text": [
      "RMSE Previous Game =  8.41845680820872\n",
      "RMSE Avg. Previous 3 Games =  7.743383673098178\n",
      "RMSE Weighted Avg. Prev 3 Games =  7.613273196931532\n",
      "RMSE Avg. Previous 5 Games =  7.759838651287435\n",
      "RMSE Weighted Avg. Prev 5 Games =  7.540822749766764\n",
      "RMSE Avg. Previous 10 Games =  7.978526754681877\n",
      "RMSE Weighted Avg. Prev 10 Games =  7.618897477978181\n"
     ]
    }
   ],
   "source": [
    "test_metrics(datfrm)"
   ]
  },
  {
   "cell_type": "code",
   "execution_count": 193,
   "metadata": {},
   "outputs": [],
   "source": [
    "def train_test(min_data):\n",
    "    x = datfrm[['starter', 'did_not_play', ]]"
   ]
  },
  {
   "cell_type": "code",
   "execution_count": 258,
   "metadata": {},
   "outputs": [
    {
     "data": {
      "text/html": [
       "<div>\n",
       "<style scoped>\n",
       "    .dataframe tbody tr th:only-of-type {\n",
       "        vertical-align: middle;\n",
       "    }\n",
       "\n",
       "    .dataframe tbody tr th {\n",
       "        vertical-align: top;\n",
       "    }\n",
       "\n",
       "    .dataframe thead th {\n",
       "        text-align: right;\n",
       "    }\n",
       "</style>\n",
       "<table border=\"1\" class=\"dataframe\">\n",
       "  <thead>\n",
       "    <tr style=\"text-align: right;\">\n",
       "      <th></th>\n",
       "      <th>game_date</th>\n",
       "      <th>starter</th>\n",
       "      <th>did_not_play</th>\n",
       "      <th>game_id_player_id</th>\n",
       "      <th>player_num</th>\n",
       "      <th>player_id</th>\n",
       "      <th>did_not_play</th>\n",
       "      <th>minutes</th>\n",
       "      <th>player_game_num</th>\n",
       "      <th>pred_min</th>\n",
       "    </tr>\n",
       "  </thead>\n",
       "  <tbody>\n",
       "    <tr>\n",
       "      <th>0</th>\n",
       "      <td>2020-12-23</td>\n",
       "      <td>0</td>\n",
       "      <td>0</td>\n",
       "      <td>202012230ORLachiupr01</td>\n",
       "      <td>0</td>\n",
       "      <td>achiupr01</td>\n",
       "      <td>0</td>\n",
       "      <td>13.650000</td>\n",
       "      <td>1</td>\n",
       "      <td>13.650000</td>\n",
       "    </tr>\n",
       "    <tr>\n",
       "      <th>1</th>\n",
       "      <td>2020-12-25</td>\n",
       "      <td>0</td>\n",
       "      <td>0</td>\n",
       "      <td>202012250MIAachiupr01</td>\n",
       "      <td>0</td>\n",
       "      <td>achiupr01</td>\n",
       "      <td>0</td>\n",
       "      <td>19.466667</td>\n",
       "      <td>2</td>\n",
       "      <td>19.466667</td>\n",
       "    </tr>\n",
       "    <tr>\n",
       "      <th>2</th>\n",
       "      <td>2020-12-29</td>\n",
       "      <td>0</td>\n",
       "      <td>0</td>\n",
       "      <td>202012290MIAachiupr01</td>\n",
       "      <td>0</td>\n",
       "      <td>achiupr01</td>\n",
       "      <td>0</td>\n",
       "      <td>17.633333</td>\n",
       "      <td>3</td>\n",
       "      <td>17.633333</td>\n",
       "    </tr>\n",
       "    <tr>\n",
       "      <th>3</th>\n",
       "      <td>2020-12-30</td>\n",
       "      <td>0</td>\n",
       "      <td>0</td>\n",
       "      <td>202012300MIAachiupr01</td>\n",
       "      <td>0</td>\n",
       "      <td>achiupr01</td>\n",
       "      <td>0</td>\n",
       "      <td>12.016667</td>\n",
       "      <td>4</td>\n",
       "      <td>12.016667</td>\n",
       "    </tr>\n",
       "    <tr>\n",
       "      <th>4</th>\n",
       "      <td>2021-01-01</td>\n",
       "      <td>0</td>\n",
       "      <td>0</td>\n",
       "      <td>202101010DALachiupr01</td>\n",
       "      <td>0</td>\n",
       "      <td>achiupr01</td>\n",
       "      <td>0</td>\n",
       "      <td>11.983333</td>\n",
       "      <td>5</td>\n",
       "      <td>11.983333</td>\n",
       "    </tr>\n",
       "  </tbody>\n",
       "</table>\n",
       "</div>"
      ],
      "text/plain": [
       "   game_date starter did_not_play      game_id_player_id  player_num  \\\n",
       "0 2020-12-23       0            0  202012230ORLachiupr01           0   \n",
       "1 2020-12-25       0            0  202012250MIAachiupr01           0   \n",
       "2 2020-12-29       0            0  202012290MIAachiupr01           0   \n",
       "3 2020-12-30       0            0  202012300MIAachiupr01           0   \n",
       "4 2021-01-01       0            0  202101010DALachiupr01           0   \n",
       "\n",
       "   player_id did_not_play    minutes  player_game_num   pred_min  \n",
       "0  achiupr01            0  13.650000                1  13.650000  \n",
       "1  achiupr01            0  19.466667                2  19.466667  \n",
       "2  achiupr01            0  17.633333                3  17.633333  \n",
       "3  achiupr01            0  12.016667                4  12.016667  \n",
       "4  achiupr01            0  11.983333                5  11.983333  "
      ]
     },
     "execution_count": 258,
     "metadata": {},
     "output_type": "execute_result"
    }
   ],
   "source": [
    "min_data.head()"
   ]
  }
 ],
 "metadata": {
  "kernelspec": {
   "display_name": "Python 3",
   "language": "python",
   "name": "python3"
  },
  "language_info": {
   "codemirror_mode": {
    "name": "ipython",
    "version": 3
   },
   "file_extension": ".py",
   "mimetype": "text/x-python",
   "name": "python",
   "nbconvert_exporter": "python",
   "pygments_lexer": "ipython3",
   "version": "3.8.5"
  }
 },
 "nbformat": 4,
 "nbformat_minor": 4
}
